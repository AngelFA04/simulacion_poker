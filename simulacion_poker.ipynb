{
  "nbformat": 4,
  "nbformat_minor": 0,
  "metadata": {
    "kernelspec": {
      "display_name": "Python 3",
      "language": "python",
      "name": "python3"
    },
    "language_info": {
      "codemirror_mode": {
        "name": "ipython",
        "version": 3
      },
      "file_extension": ".py",
      "mimetype": "text/x-python",
      "name": "python",
      "nbconvert_exporter": "python",
      "pygments_lexer": "ipython3",
      "version": "3.8.3-final"
    },
    "colab": {
      "name": "simulacion_poker.ipynb",
      "provenance": []
    }
  },
  "cells": [
    {
      "cell_type": "code",
      "metadata": {
        "id": "uFR-UMTnTr7O",
        "colab_type": "code",
        "colab": {}
      },
      "source": [
        "import random\n",
        "import collections\n",
        "import operator\n",
        "from functools import lru_cache\n"
      ],
      "execution_count": null,
      "outputs": []
    },
    {
      "cell_type": "markdown",
      "metadata": {
        "id": "NzxYtq3WTr7Y",
        "colab_type": "text"
      },
      "source": [
        "# Descripción de baraja inglesa"
      ]
    },
    {
      "cell_type": "markdown",
      "metadata": {
        "id": "znFwoBufTr7Z",
        "colab_type": "text"
      },
      "source": [
        "La baraja está dividida en cuatro palos (en inglés: suit), dos de color rojo y dos de color negro:\n",
        "\n",
        "    ♠ → Espadas (conocidas como picas). NEGRO\n",
        "    ♥ → Corazones (conocidos como copas). ROJO\n",
        "    ♦ → Rombos (conocidos como diamantes, oros o cocos). ROJO\n",
        "    ♣ → Tréboles (conocidos como flores o bastos). NEGRO\n",
        "\n",
        "Cada palo está formado por 13 cartas, de las cuales 9 cartas son numerales y 4 literales. Se ordenan de menor a mayor \"rango\" de la siguiente forma: A ,2, 3, 4, 5, 6, 7, 8, 9, 10, J, Q, K. Las cartas con letras, las figuras, se llaman jack, queen, king y ace. En español reciben nombres diversos, que se detallan más adelante.\n",
        "\n",
        "Los dos comodines se denominan jokers (en singular joker), uno está a colores (amarillo, azul y rojo) y el otro está a blanco y negro. \n",
        "\n",
        "https://es.wikipedia.org/wiki/P%C3%B3quer"
      ]
    },
    {
      "cell_type": "markdown",
      "metadata": {
        "id": "TG4ItjFITr7c",
        "colab_type": "text"
      },
      "source": [
        "## Clasificación de las manos"
      ]
    },
    {
      "cell_type": "markdown",
      "metadata": {
        "id": "ywyJvK68Tr7e",
        "colab_type": "text"
      },
      "source": [
        "* **Flor imperial** - es la mano más valiosa y menos frecuente del póquer. Consiste en la combinación de las cinco cartas de mayor valor consecutivas (el as, la K, la Q, la J y el 10), y deben ser estrictamente del mismo palo.\n",
        "\n",
        "  ![texto alternativo](https://upload.wikimedia.org/wikipedia/commons/c/cf/Royal_Flush.png)\n",
        "\n",
        "\n",
        "* **Escalera color** - es una combinación de cinco cartas consecutivas del mismo palo. Las escaleras se valoran en función de la carta más alta, por ejemplo, la mano 9, 8, 7, 6, 5 sería una escalera de color al 9, y sería derrotada por una escalera de color a la J, siendo el palo irrelevante, siempre en orden de menor a mayor La escalera real es un caso particular de la escalera de color.\n",
        "  \n",
        "  ![texto alternativo](https://upload.wikimedia.org/wikipedia/commons/6/6c/Straight_Flush.png)\n",
        "\n",
        "\n",
        "\n",
        "* **Poker** - es una combinación que contiene cuatro cartas del mismo valor y una carta cualquiera (kicker). Dos póqueres se comparan en función del valor del cuarteto; un póquer de sietes vence a un póquer de doses. En el caso de que varios jugadores compartan el mismo cuarteto, situación que puede darse en variantes de póquer como el Texas Hold'em, la carta adicional es la que desempata.\n",
        "\n",
        "  ![texto alternativo](https://upload.wikimedia.org/wikipedia/commons/2/2d/Poker.png)\n",
        "\n",
        "\n",
        "* **Full** - es una combinación de tres cartas del mismo valor más una pareja distinta. La mano Q, Q, Q, 4, 4 sería un full de damas y cuatros. El valor del full depende primeramente del valor del trío. No hay empate en ésta combinación. \n",
        "\n",
        "  ![texto alternativo](https://upload.wikimedia.org/wikipedia/commons/0/05/Full.png)\n",
        "\n",
        "* **Color** - es una combinación de cinco cartas del mismo palo (o más), no necesariamente consecutivas. El valor de esta mano no depende del valor de las cartas con las que se realiza la mano. El palo en sí es muy irrelevante en orden a determinar el valor de la mano. En total es posible hacer 5148 colores diferentes, de los cuales 40 son escaleras de color. La posibilidad de obtener un color tomando cinco cartas al azar de la baraja es del 0,2%\n",
        "\n",
        "  ![texto alternativo](https://upload.wikimedia.org/wikipedia/commons/e/ea/Flush.png)\n",
        "  \n",
        "\n",
        "\n",
        "* **Escalera** - es una combinación de cinco cartas consecutivas, no necesariamente del mismo palo. El valor de la escalera depende de la carta más alta de la sucesión, al igual que en la escalera de color. La escalera de mayor valor es la escalera al as (A, K, Q, J, 10), llamada escalera broadway. El as actúa tanto como principio (con valor de 1, seguido del 2), como de final de la escalera (siguiendo a la K).\n",
        "Cinco cartas consecutivas sin importar el palo. $B = {a_k, a_k+1, ..., a_r-1, a_r}$\n",
        "\n",
        "  ![texto alternativo](https://upload.wikimedia.org/wikipedia/commons/7/7a/Straight.png)\n",
        "    \n",
        "* **Tercia** - Está compuesto por tres cartas del mismo valor y otras dos cartas distintas al trío y distintas entre sí. Cuando dos jugadores tienen trío, vence el que tenga el trío formado por cartas de mayor valor. En caso de que ambos tengan el mismo (situación posible en juegos con cartas comunitarias), se recurre a las dos cartas adicionales para desempatar. Primero se compara el valor de la carta más alta de uno con la del otro, y en caso de empate se comparan las segundas más altas.\n",
        "  \n",
        "  ![texto alternativo](https://upload.wikimedia.org/wikipedia/commons/4/41/Three_of_a_kind.png)\n",
        "\n",
        "* **Doble pareja** -  es una mano formada por dos pares distintos y una carta distinta de las anteriores. En caso de que dos jugadores tengan dobles, se compara en primer lugar la pareja más alta de cada uno. En caso de empate se parte en dos la ganancia.\n",
        "  \n",
        "  ![texto alternativo](https://upload.wikimedia.org/wikipedia/commons/6/62/Two_Pairs.png)\n",
        "\n",
        "* **Pareja** - es una mano formada por dos cartas del mismo valor más tres cartas adicionales de valor distinto de la pareja y distintas entre sí. En caso de que varios jugadores tengan pareja, se compara el valor numérico de esta. En caso de empate, se comparan las cartas compañeras, empezando por las más altas de cada uno, y siguiendo de manera descendente.\n",
        "  \n",
        "  ![texto alternativo](https://upload.wikimedia.org/wikipedia/commons/4/44/One_Pair.png)\n",
        "\n",
        "\n",
        "* **Carta alta** - Cuando no se tiene ninguna combinación de las anteriores, se dice que se tiene carta alta o carta más alta (high card). Dos cartas altas se comparan entre sí comparando los valores de las cartas una por una, empezando por la más alta de cada jugador, y siguiendo en orden descendente. Por ejemplo, la mano A, K, 4, 3, 2 vence a la mano A, Q, J, 10, 9, dado que aunque ambos tienen un as, la primera mano tiene una segunda mejor carta, y a partir de este punto el resto ya no se tienen en cuenta."
      ]
    },
    {
      "cell_type": "markdown",
      "metadata": {
        "id": "XjC0GkoITr7h",
        "colab_type": "text"
      },
      "source": [
        "# Simulación de poker"
      ]
    },
    {
      "cell_type": "code",
      "metadata": {
        "id": "FGH1rC7nTr7i",
        "colab_type": "code",
        "colab": {}
      },
      "source": [
        "PALOS = ['espada', 'corazon', 'rombo', 'trebol']\n",
        "VALORES = ['A', '2', '3', '4', '5', '6', '7', '8', '9', '10', 'J', 'Q', 'K']\n",
        "#VALORES = [(1, 'A')[0], (2,'2')[0], (3,'3')[0], (4,'4')[0], (5,'5')[0], (6,'6')[0], (7,'7')[0], (8,'8')[0], (9,'9')[0], (10,'10')[0], (11,'J')[0], (12,'Q')[0], (13,'K')[0]]\n",
        "#VALORES_DICT\n",
        "VALORES_DICT = {1:'A', 2:'2', 3:'3', 4:'4', 5:'5', 6:'6', 7:'7', 8:'8', 9:'9', 10:'10', 11:'J', 12:'Q', 13:'K'}\n",
        "\n"
      ],
      "execution_count": null,
      "outputs": []
    },
    {
      "cell_type": "code",
      "metadata": {
        "id": "v7Rv5F-JTr7o",
        "colab_type": "code",
        "colab": {},
        "outputId": "3fce8344-b1f7-4d78-bdd4-bd9cacbe9c6d"
      },
      "source": [
        "list(enumerate(VALORES, start=1))"
      ],
      "execution_count": null,
      "outputs": [
        {
          "output_type": "execute_result",
          "data": {
            "text/plain": [
              "[(1, 'A'),\n",
              " (2, '2'),\n",
              " (3, '3'),\n",
              " (4, '4'),\n",
              " (5, '5'),\n",
              " (6, '6'),\n",
              " (7, '7'),\n",
              " (8, '8'),\n",
              " (9, '9'),\n",
              " (10, 10),\n",
              " (11, 11),\n",
              " (12, 12),\n",
              " (13, 13)]"
            ]
          },
          "metadata": {
            "tags": []
          },
          "execution_count": 4
        }
      ]
    },
    {
      "cell_type": "code",
      "metadata": {
        "id": "49RraeYeTr7s",
        "colab_type": "code",
        "colab": {}
      },
      "source": [
        "def generar_baraja():\n",
        "    \"\"\"\n",
        "    Combinación de todos los valores con todos los palos\n",
        "    \"\"\"\n",
        "    barajas = [ (palo, valor) for palo in PALOS for valor in list(enumerate(VALORES.copy(), start=1)) ]\n",
        "    \n",
        "    return barajas"
      ],
      "execution_count": null,
      "outputs": []
    },
    {
      "cell_type": "code",
      "metadata": {
        "id": "eivvF77lTr7z",
        "colab_type": "code",
        "colab": {}
      },
      "source": [
        "def obtener_mano(barajas, tamano_mano):\n",
        "    \"\"\"\n",
        "    Genera una mano de barajas\n",
        "    \"\"\"\n",
        "    try:\n",
        "        mano = random.sample(barajas, tamano_mano)\n",
        "    except ValueError as e:\n",
        "        print('Ese número de barajas no es valido.', e)\n",
        "\n",
        "    return mano"
      ],
      "execution_count": null,
      "outputs": []
    },
    {
      "cell_type": "markdown",
      "metadata": {
        "id": "YqnlBh52Tr74",
        "colab_type": "text"
      },
      "source": [
        "# Generadores de manos"
      ]
    },
    {
      "cell_type": "code",
      "metadata": {
        "tags": [],
        "id": "-BNnaXgnTr75",
        "colab_type": "code",
        "colab": {}
      },
      "source": [
        "def escalera_real(mano):\n",
        "    ESCALERA_REAL = [(palo, valor) for palo in PALOS for valor in VALORES if valor in enumerate(['A','J', 'Q', 'K', '10'], start=1)]\n",
        "    MANOS = []\n",
        "    for i in range(0,4*5,5):\n",
        "        MANOS.append(ESCALERA_REAL[i:i+5])\n",
        "    \n",
        "    if mano in ESCALERA_REAL:\n",
        "        return True\n",
        "    else: \n",
        "        return False"
      ],
      "execution_count": null,
      "outputs": []
    },
    {
      "cell_type": "code",
      "metadata": {
        "id": "E6QlJ2TeTr79",
        "colab_type": "code",
        "colab": {}
      },
      "source": [
        "def escalera_color(mano, tamano):\n",
        "    palos_mano = { palo[0] for palo in mano }\n",
        "    #print(f'Palos: {palos_mano}')\n",
        "    if escalera(mano, tamano) and len(palos_mano) == 1:\n",
        "        return True\n",
        "    return False"
      ],
      "execution_count": null,
      "outputs": []
    },
    {
      "cell_type": "code",
      "metadata": {
        "id": "Hdjuif62Tr8C",
        "colab_type": "code",
        "colab": {}
      },
      "source": [
        "\n",
        "def color(mano, tamano):\n",
        "    palos_mano = { palo[0] for palo in mano }\n",
        "    if len(palos_mano) == 1:\n",
        "        return True\n",
        "    return False"
      ],
      "execution_count": null,
      "outputs": []
    },
    {
      "cell_type": "code",
      "metadata": {
        "id": "5OyOJgUeTr8G",
        "colab_type": "code",
        "colab": {}
      },
      "source": [
        "\n",
        "def escalera(mano, tamano):\n",
        "    #Obtiene los valores númericos del 1 al 13 de cada carta de la baraja\n",
        "    valores =  [x[0] for x in  list(enumerate(VALORES.copy(), start=1))]\n",
        "\n",
        "\n",
        "    mano.sort(key = lambda x:x[1])\n",
        "    #Va a tomar el primer elemento de la mano (es una tupla)\n",
        "    indice = valores.index(mano[0][1][0])\n",
        "\n",
        "    fragmento_valores = valores[indice:indice+tamano].copy()\n",
        "    try:\n",
        "        for a,b in zip(mano, fragmento_valores):\n",
        "            #Va a tomar el valor número de la mano, el cual está determinado por un índice\n",
        "            valor_mano = a[1][0]\n",
        "            #print(f'\\t {valor_mano} \\t {b}')\n",
        "            if valor_mano != b:\n",
        "                return False\n",
        "        return True\n",
        "    except:\n",
        "        return False\n",
        "    "
      ],
      "execution_count": null,
      "outputs": []
    },
    {
      "cell_type": "markdown",
      "metadata": {
        "id": "OKlw1je9Tr8K",
        "colab_type": "text"
      },
      "source": [
        "# Simulación de probabilidades"
      ]
    },
    {
      "cell_type": "code",
      "metadata": {
        "id": "Scob65eRTr8L",
        "colab_type": "code",
        "colab": {}
      },
      "source": [
        "def calcular_probabilidad( manos ):\n",
        "    \"\"\"\n",
        "    Regresa un conteo de las diferentes manos obtenidas y su porcentaje\n",
        "    \"\"\"\n",
        "    valores_manos = {\"pares\":0, \n",
        "                    \"dobles pares\":0, \n",
        "                    \"tercia\":0, \n",
        "                    \"escalera\":0,\n",
        "                    \"color\" : 0,\n",
        "                    \"full\" : 0,\n",
        "                    \"poker\" : 0,\n",
        "                    \"escalera de color\" : 0, \n",
        "                    \"escalera_real\" : 0,}\n",
        "\n",
        "    ###\n",
        "    # Analisis de cada mano\n",
        "    ###\n",
        "    for mano in manos:\n",
        "        valores = []\n",
        "        palos = []\n",
        "\n",
        "        if escalera_real(mano):\n",
        "            valores_mano[\"escalera_real\"] += 1\n",
        "        for carta in mano:\n",
        "            valores.append(carta[1])\n",
        "\n",
        "        counter = dict(collections.Counter(valores))\n",
        "        list_counter = list(counter.values())\n",
        "        if list_counter.count(2) == 1:\n",
        "            valores_manos[\"pares\"] += 1\n",
        "        elif list_counter.count(2) == 2:\n",
        "            valores_manos[\"dobles pares\"] += 1\n",
        "        elif  list_counter.count(3) == 1:\n",
        "            valores_manos[\"tercia\"] += 1\n",
        "        if escalera(mano, len(mano)):\n",
        "            valores_manos[\"escalera\"] += 1\n",
        "        \n",
        "        if list_counter.count(4) == 1:\n",
        "            valores_manos[\"poker\"] += 1\n",
        "\n",
        "        #Mover posición de está condición\n",
        "        if list_counter.count(2) == 1 and list(counter.values()).count(3) == 1:\n",
        "            valores_manos[\"full\"] += 1\n",
        "\n",
        "        if color(mano, len(mano)):\n",
        "            valores_manos[\"color\"] += 1    \n",
        "            if escalera_color(mano, len(mano)):\n",
        "                valores_manos[\"escalera de color\"] += 1\n",
        "            \n",
        "    \n",
        "    for key, value in valores_manos.items():\n",
        "        print(f'Probabilidad de obtener {key} es {value}/{len(manos)} = {value/len(manos)* 100}%')\n",
        "\n",
        "    return valores_manos\n"
      ],
      "execution_count": null,
      "outputs": []
    },
    {
      "cell_type": "code",
      "metadata": {
        "id": "cmb1bxSETr8O",
        "colab_type": "code",
        "colab": {}
      },
      "source": [
        "def main(tamano_mano, intentos):\n",
        "    \"\"\"\n",
        "    Genera simulación con una n cantidad de intentos\n",
        "    \"\"\"\n",
        "    \n",
        "    barajas = generar_baraja()\n",
        "    manos = []\n",
        "\n",
        "    for _ in range(intentos):\n",
        "        mano = obtener_mano(barajas, tamano_mano)\n",
        "        manos.append(mano)\n",
        "\n",
        "\n",
        "    vals = calcular_probabilidad(manos)\n",
        "\n"
      ],
      "execution_count": null,
      "outputs": []
    },
    {
      "cell_type": "code",
      "metadata": {
        "tags": [],
        "id": "UL8RQmlUTr8V",
        "colab_type": "code",
        "colab": {},
        "outputId": "53448f74-c79e-445d-ab89-c7f73f1be978"
      },
      "source": [
        "#Introducir variables aquí\n",
        "tamano_mano = 5\n",
        "#intentos = 2598960\n",
        "intentos = 100000\n",
        "main(tamano_mano, intentos)"
      ],
      "execution_count": null,
      "outputs": [
        {
          "output_type": "stream",
          "text": [
            "Probabilidad de obtener pares es 42450/100000 = 42.449999999999996%\n",
            "Probabilidad de obtener dobles pares es 4724/100000 = 4.723999999999999%\n",
            "Probabilidad de obtener tercia es 2181/100000 = 2.181%\n",
            "Probabilidad de obtener escalera es 396/100000 = 0.396%\n",
            "Probabilidad de obtener color es 203/100000 = 0.203%\n",
            "Probabilidad de obtener full es 142/100000 = 0.14200000000000002%\n",
            "Probabilidad de obtener poker es 20/100000 = 0.02%\n",
            "Probabilidad de obtener escalera de color es 2/100000 = 0.002%\n",
            "Probabilidad de obtener escalera_real es 0/100000 = 0.0%\n"
          ],
          "name": "stdout"
        }
      ]
    },
    {
      "cell_type": "markdown",
      "metadata": {
        "id": "4kM2mgUkTr8Z",
        "colab_type": "text"
      },
      "source": [
        "# Tests"
      ]
    },
    {
      "cell_type": "markdown",
      "metadata": {
        "id": "boO9jUchTr8a",
        "colab_type": "text"
      },
      "source": [
        "---"
      ]
    },
    {
      "cell_type": "code",
      "metadata": {
        "tags": [],
        "id": "hKZCgCgUTr8a",
        "colab_type": "code",
        "colab": {},
        "outputId": "43f6159c-acef-499e-ec0e-c8e4e586054c"
      },
      "source": [
        "#Test escalera\n",
        "mano_1 = generar_baraja()[1:6]\n",
        "mano_2 = generar_baraja()[2:7]\n",
        "mano_3 = obtener_mano(generar_baraja(), 5)\n",
        "mano_4 = generar_baraja()[6:11]\n",
        "mano_5 = generar_baraja()[7:7+5]\n",
        "\n",
        "for mano in [mano_1, mano_2, mano_3, mano_4, mano_5]:\n",
        "    print(mano)\n",
        "    if escalera(mano, 5):\n",
        "        print(\"Yes")\n",
        "    else:\n",
        "        print(\"No")"
      ],
      "execution_count": null,
      "outputs": [
        {
          "output_type": "stream",
          "text": [
            "[('espada', (2, '2')), ('espada', (3, '3')), ('espada', (4, '4')), ('espada', (5, '5')), ('espada', (6, '6'))]\n",
            "++++Wuuuuu\n",
            "\n",
            "[('espada', (3, '3')), ('espada', (4, '4')), ('espada', (5, '5')), ('espada', (6, '6')), ('espada', (7, '7'))]\n",
            "++++Wuuuuu\n",
            "\n",
            "[('corazon', (7, '7')), ('trebol', (12, 'Q')), ('trebol', (5, '5')), ('corazon', (1, 'A')), ('corazon', (10, '10'))]\n",
            "++++Ah:(\n",
            "\n",
            "[('espada', (7, '7')), ('espada', (8, '8')), ('espada', (9, '9')), ('espada', (10, '10')), ('espada', (11, 'J'))]\n",
            "++++Wuuuuu\n",
            "\n",
            "[('espada', (8, '8')), ('espada', (9, '9')), ('espada', (10, '10')), ('espada', (11, 'J')), ('espada', (12, 'Q'))]\n",
            "++++Wuuuuu\n",
            "\n"
          ],
          "name": "stdout"
        }
      ]
    },
    {
      "cell_type": "code",
      "metadata": {
        "tags": [],
        "id": "p2Vc8jMzTr8f",
        "colab_type": "code",
        "colab": {},
        "outputId": "d35ff707-9517-49f5-e70b-bdb5d9a64b19"
      },
      "source": [
        "print(mano_2)"
      ],
      "execution_count": null,
      "outputs": [
        {
          "output_type": "stream",
          "text": [
            "[('espada', (3, '3')), ('espada', (4, '4')), ('espada', (5, '5')), ('espada', (6, '6')), ('espada', (7, '7'))]\n"
          ],
          "name": "stdout"
        }
      ]
    },
    {
      "cell_type": "code",
      "metadata": {
        "tags": [],
        "id": "kWuKcwgYTr8k",
        "colab_type": "code",
        "colab": {},
        "outputId": "65345dca-1afa-461a-ce8f-4f66ca7cdee4"
      },
      "source": [
        "#Test color\n",
        "for mano in [mano_1, mano_2]:\n",
        "    if color(mano, len(mano)):\n",
        "        print(\"Yes\")\n",
        "    else:\n",
        "        print(\"No\")"
      ],
      "execution_count": null,
      "outputs": [
        {
          "output_type": "stream",
          "text": [
            "Yes\n",
            "Yes\n"
          ],
          "name": "stdout"
        }
      ]
    }
  ]
}
