{
 "cells": [
  {
   "cell_type": "code",
   "execution_count": 193,
   "metadata": {},
   "outputs": [],
   "source": [
    "import random\n",
    "import collections\n",
    "import operator\n",
    "from functools import lru_cache\n"
   ]
  },
  {
   "cell_type": "markdown",
   "metadata": {},
   "source": [
    "# Descripción de baraja inglesa"
   ]
  },
  {
   "cell_type": "markdown",
   "metadata": {},
   "source": [
    "La baraja está dividida en cuatro palos (en inglés: suit), dos de color rojo y dos de color negro:\n",
    "\n",
    "    ♠ → Espadas (conocidas como picas). NEGRO\n",
    "    ♥ → Corazones (conocidos como copas). ROJO\n",
    "    ♦ → Rombos (conocidos como diamantes, oros o cocos). ROJO\n",
    "    ♣ → Tréboles (conocidos como flores o bastos). NEGRO\n",
    "\n",
    "Cada palo está formado por 13 cartas, de las cuales 9 cartas son numerales y 4 literales. Se ordenan de menor a mayor \"rango\" de la siguiente forma: A ,2, 3, 4, 5, 6, 7, 8, 9, 10, J, Q, K. Las cartas con letras, las figuras, se llaman jack, queen, king y ace. En español reciben nombres diversos, que se detallan más adelante.\n",
    "\n",
    "Los dos comodines se denominan jokers (en singular joker), uno está a colores (amarillo, azul y rojo) y el otro está a blanco y negro. \n",
    "\n",
    "https://es.wikipedia.org/wiki/P%C3%B3quer"
   ]
  },
  {
   "cell_type": "markdown",
   "metadata": {},
   "source": [
    "## Clasificación de las manos"
   ]
  },
  {
   "cell_type": "markdown",
   "metadata": {},
   "source": [
    "    -Flor imperial\n",
    "    -Escalera color\n",
    "    -Poker\n",
    "    -Fulls\n",
    "    -Color - Cinco cartas del mismo palo, sin ser consecutivas. \n",
    "    -Escalera - Cinco cartas consecutivas sin importar el palo. B = {a_k, a_k+1, ..., a_r-1, a_r}\n",
    "    -Trio\n",
    "    -Doble pareja\n",
    "    -Pareja\n",
    "    -Carta alta"
   ]
  },
  {
   "cell_type": "markdown",
   "metadata": {},
   "source": [
    "# Simulación de poker"
   ]
  },
  {
   "cell_type": "code",
   "execution_count": 18,
   "metadata": {},
   "outputs": [],
   "source": [
    "PALOS = ['espada', 'corazon', 'rombo', 'trebol']\n",
    "VALORES = ['A', '2', '3', '4', '5', '6', '7', '8', '9', '10', 'J', 'Q', 'K']\n",
    "#VALORES = [(1, 'A')[0], (2,'2')[0], (3,'3')[0], (4,'4')[0], (5,'5')[0], (6,'6')[0], (7,'7')[0], (8,'8')[0], (9,'9')[0], (10,'10')[0], (11,'J')[0], (12,'Q')[0], (13,'K')[0]]\n",
    "#VALORES_DICT\n",
    "VALORES_DICT = {1:'A', 2:'2', 3:'3', 4:'4', 5:'5', 6:'6', 7:'7', 8:'8', 9:'9', 10:'10', 11:'J', 12:'Q', 13:'K'}\n",
    "\n"
   ]
  },
  {
   "cell_type": "code",
   "execution_count": 4,
   "metadata": {},
   "outputs": [
    {
     "output_type": "execute_result",
     "data": {
      "text/plain": "[(1, 'A'),\n (2, '2'),\n (3, '3'),\n (4, '4'),\n (5, '5'),\n (6, '6'),\n (7, '7'),\n (8, '8'),\n (9, '9'),\n (10, 10),\n (11, 11),\n (12, 12),\n (13, 13)]"
     },
     "metadata": {},
     "execution_count": 4
    }
   ],
   "source": [
    "list(enumerate(VALORES, start=1))"
   ]
  },
  {
   "cell_type": "code",
   "execution_count": 61,
   "metadata": {},
   "outputs": [],
   "source": [
    "def generar_baraja():\n",
    "    \"\"\"\n",
    "    Combinación de todos los valores con todos los palos\n",
    "    \"\"\"\n",
    "    barajas = [ (palo, valor) for palo in PALOS for valor in list(enumerate(VALORES.copy(), start=1)) ]\n",
    "    \n",
    "    return barajas"
   ]
  },
  {
   "cell_type": "code",
   "execution_count": 6,
   "metadata": {},
   "outputs": [],
   "source": [
    "def obtener_mano(barajas, tamano_mano):\n",
    "    \"\"\"\n",
    "    Genera una mano de barajas\n",
    "    \"\"\"\n",
    "    try:\n",
    "        mano = random.sample(barajas, tamano_mano)\n",
    "    except ValueError as e:\n",
    "        print('Ese número de barajas no es valido.', e)\n",
    "\n",
    "    return mano"
   ]
  },
  {
   "cell_type": "markdown",
   "metadata": {},
   "source": [
    "# Generadores de manos"
   ]
  },
  {
   "cell_type": "code",
   "execution_count": 241,
   "metadata": {
    "tags": []
   },
   "outputs": [],
   "source": [
    "def escalera_real(mano):\n",
    "    ESCALERA_REAL = [(palo, valor) for palo in PALOS for valor in VALORES if valor in enumerate(['A','J', 'Q', 'K', '10'], start=1)]\n",
    "    MANOS = []\n",
    "    for i in range(0,4*5,5):\n",
    "        MANOS.append(ESCALERA_REAL[i:i+5])\n",
    "    \n",
    "    if mano in ESCALERA_REAL:\n",
    "        return True\n",
    "    else: \n",
    "        return False"
   ]
  },
  {
   "cell_type": "code",
   "execution_count": 217,
   "metadata": {},
   "outputs": [],
   "source": [
    "def escalera_color(mano, tamano):\n",
    "    palos_mano = { palo[0] for palo in mano }\n",
    "    #print(f'Palos: {palos_mano}')\n",
    "    if escalera(mano, tamano) and len(palos_mano) == 1:\n",
    "        return True\n",
    "    return False"
   ]
  },
  {
   "cell_type": "code",
   "execution_count": 216,
   "metadata": {},
   "outputs": [],
   "source": [
    "\n",
    "def color(mano, tamano):\n",
    "    palos_mano = { palo[0] for palo in mano }\n",
    "    if len(palos_mano) == 1:\n",
    "        return True\n",
    "    return False"
   ]
  },
  {
   "cell_type": "code",
   "execution_count": 197,
   "metadata": {},
   "outputs": [],
   "source": [
    "\n",
    "def escalera(mano, tamano):\n",
    "    #Obtiene los valores númericos del 1 al 13 de cada carta de la baraja\n",
    "    valores =  [x[0] for x in  list(enumerate(VALORES.copy(), start=1))]\n",
    "\n",
    "\n",
    "    mano.sort(key = lambda x:x[1])\n",
    "    #Va a tomar el primer elemento de la mano (es una tupla)\n",
    "    indice = valores.index(mano[0][1][0])\n",
    "\n",
    "    fragmento_valores = valores[indice:indice+tamano].copy()\n",
    "    try:\n",
    "        for a,b in zip(mano, fragmento_valores):\n",
    "            #Va a tomar el valor número de la mano, el cual está determinado por un índice\n",
    "            valor_mano = a[1][0]\n",
    "            #print(f'\\t {valor_mano} \\t {b}')\n",
    "            if valor_mano != b:\n",
    "                return False\n",
    "        return True\n",
    "    except:\n",
    "        return False\n",
    "    "
   ]
  },
  {
   "cell_type": "markdown",
   "metadata": {},
   "source": [
    "# Simulación de probabilidades"
   ]
  },
  {
   "cell_type": "code",
   "execution_count": 249,
   "metadata": {},
   "outputs": [],
   "source": [
    "def calcular_probabilidad( manos ):\n",
    "    \"\"\"\n",
    "    Regresa un conteo de las diferentes manos obtenidas y su porcentaje\n",
    "    \"\"\"\n",
    "    valores_manos = {\"pares\":0, \n",
    "                    \"dobles pares\":0, \n",
    "                    \"tercia\":0, \n",
    "                    \"escalera\":0,\n",
    "                    \"color\" : 0,\n",
    "                    \"full\" : 0,\n",
    "                    \"poker\" : 0,\n",
    "                    \"escalera de color\" : 0, \n",
    "                    \"escalera_real\" : 0,}\n",
    "\n",
    "    ###\n",
    "    # Analisis de cada mano\n",
    "    ###\n",
    "    for mano in manos:\n",
    "        valores = []\n",
    "        palos = []\n",
    "\n",
    "        if escalera_real(mano):\n",
    "            valores_mano[\"escalera_real\"] += 1\n",
    "        for carta in mano:\n",
    "            valores.append(carta[1])\n",
    "\n",
    "        counter = dict(collections.Counter(valores))\n",
    "        list_counter = list(counter.values())\n",
    "        if list_counter.count(2) == 1:\n",
    "            valores_manos[\"pares\"] += 1\n",
    "        elif list_counter.count(2) == 2:\n",
    "            valores_manos[\"dobles pares\"] += 1\n",
    "        elif  list_counter.count(3) == 1:\n",
    "            valores_manos[\"tercia\"] += 1\n",
    "        if escalera(mano, len(mano)):\n",
    "            valores_manos[\"escalera\"] += 1\n",
    "        \n",
    "        if list_counter.count(4) == 1:\n",
    "            valores_manos[\"poker\"] += 1\n",
    "\n",
    "        #Mover posición de está condición\n",
    "        if list_counter.count(2) == 1 and list(counter.values()).count(3) == 1:\n",
    "            valores_manos[\"full\"] += 1\n",
    "\n",
    "        if color(mano, len(mano)):\n",
    "            valores_manos[\"color\"] += 1    \n",
    "            if escalera_color(mano, len(mano)):\n",
    "                valores_manos[\"escalera de color\"] += 1\n",
    "            \n",
    "    \n",
    "    for key, value in valores_manos.items():\n",
    "        print(f'Probabilidad de obtener {key} es {value}/{len(manos)} = {value/len(manos)* 100}%')\n",
    "\n",
    "    return valores_manos\n"
   ]
  },
  {
   "cell_type": "code",
   "execution_count": 201,
   "metadata": {},
   "outputs": [],
   "source": [
    "def main(tamano_mano, intentos):\n",
    "    \"\"\"\n",
    "    Genera simulación con una n cantidad de intentos\n",
    "    \"\"\"\n",
    "    \n",
    "    barajas = generar_baraja()\n",
    "    manos = []\n",
    "\n",
    "    for _ in range(intentos):\n",
    "        mano = obtener_mano(barajas, tamano_mano)\n",
    "        manos.append(mano)\n",
    "\n",
    "\n",
    "    vals = calcular_probabilidad(manos)\n",
    "\n"
   ]
  },
  {
   "cell_type": "code",
   "execution_count": 252,
   "metadata": {
    "tags": []
   },
   "outputs": [
    {
     "output_type": "stream",
     "name": "stdout",
     "text": "Probabilidad de obtener pares es 42450/100000 = 42.449999999999996%\nProbabilidad de obtener dobles pares es 4724/100000 = 4.723999999999999%\nProbabilidad de obtener tercia es 2181/100000 = 2.181%\nProbabilidad de obtener escalera es 396/100000 = 0.396%\nProbabilidad de obtener color es 203/100000 = 0.203%\nProbabilidad de obtener full es 142/100000 = 0.14200000000000002%\nProbabilidad de obtener poker es 20/100000 = 0.02%\nProbabilidad de obtener escalera de color es 2/100000 = 0.002%\nProbabilidad de obtener escalera_real es 0/100000 = 0.0%\n"
    }
   ],
   "source": [
    "#Introducir variables aquí\n",
    "tamano_mano = 5\n",
    "#intentos = 2598960\n",
    "intentos = 100000\n",
    "main(tamano_mano, intentos)"
   ]
  },
  {
   "cell_type": "markdown",
   "metadata": {},
   "source": [
    "# Tests"
   ]
  },
  {
   "cell_type": "markdown",
   "metadata": {},
   "source": [
    "---"
   ]
  },
  {
   "cell_type": "code",
   "execution_count": 166,
   "metadata": {
    "tags": []
   },
   "outputs": [
    {
     "output_type": "stream",
     "name": "stdout",
     "text": "[('espada', (2, '2')), ('espada', (3, '3')), ('espada', (4, '4')), ('espada', (5, '5')), ('espada', (6, '6'))]\n++++Wuuuuu\n\n[('espada', (3, '3')), ('espada', (4, '4')), ('espada', (5, '5')), ('espada', (6, '6')), ('espada', (7, '7'))]\n++++Wuuuuu\n\n[('corazon', (7, '7')), ('trebol', (12, 'Q')), ('trebol', (5, '5')), ('corazon', (1, 'A')), ('corazon', (10, '10'))]\n++++Ah:(\n\n[('espada', (7, '7')), ('espada', (8, '8')), ('espada', (9, '9')), ('espada', (10, '10')), ('espada', (11, 'J'))]\n++++Wuuuuu\n\n[('espada', (8, '8')), ('espada', (9, '9')), ('espada', (10, '10')), ('espada', (11, 'J')), ('espada', (12, 'Q'))]\n++++Wuuuuu\n\n"
    }
   ],
   "source": [
    "#Test escalera\n",
    "mano_1 = generar_baraja()[1:6]\n",
    "mano_2 = generar_baraja()[2:7]\n",
    "mano_3 = obtener_mano(generar_baraja(), 5)\n",
    "mano_4 = generar_baraja()[6:11]\n",
    "mano_5 = generar_baraja()[7:7+5]\n",
    "\n",
    "for mano in [mano_1, mano_2, mano_3, mano_4, mano_5]:\n",
    "    print(mano)\n",
    "    if escalera(mano, 5):\n",
    "        print(\"++++Wuuuuu\\n\")\n",
    "    else:\n",
    "        print(\"++++Ah:(\\n\")"
   ]
  },
  {
   "cell_type": "code",
   "execution_count": 73,
   "metadata": {
    "tags": []
   },
   "outputs": [
    {
     "output_type": "stream",
     "name": "stdout",
     "text": "[('espada', (3, '3')), ('espada', (4, '4')), ('espada', (5, '5')), ('espada', (6, '6')), ('espada', (7, '7'))]\n"
    }
   ],
   "source": [
    "print(mano_2)"
   ]
  },
  {
   "cell_type": "code",
   "execution_count": 223,
   "metadata": {
    "tags": []
   },
   "outputs": [
    {
     "output_type": "stream",
     "name": "stdout",
     "text": "Yes\nYes\n"
    }
   ],
   "source": [
    "#Test color\n",
    "for mano in [mano_1, mano_2]:\n",
    "    if color(mano, len(mano)):\n",
    "        print(\"Yes\")\n",
    "    else:\n",
    "        print(\"No\")"
   ]
  }
 ],
 "metadata": {
  "kernelspec": {
   "display_name": "Python 3",
   "language": "python",
   "name": "python3"
  },
  "language_info": {
   "codemirror_mode": {
    "name": "ipython",
    "version": 3
   },
   "file_extension": ".py",
   "mimetype": "text/x-python",
   "name": "python",
   "nbconvert_exporter": "python",
   "pygments_lexer": "ipython3",
   "version": "3.8.3-final"
  }
 },
 "nbformat": 4,
 "nbformat_minor": 2
}